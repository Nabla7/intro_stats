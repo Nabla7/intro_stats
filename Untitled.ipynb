{
 "cells": [
  {
   "cell_type": "code",
   "execution_count": 1,
   "id": "ca4ca71c-b60b-420d-b6da-721615423382",
   "metadata": {
    "tags": []
   },
   "outputs": [],
   "source": [
    "import math\n",
    "import scipy.stats as stats"
   ]
  },
  {
   "cell_type": "code",
   "execution_count": 71,
   "id": "62b16e4e-e216-42a3-8576-87a006fe7a99",
   "metadata": {
    "tags": []
   },
   "outputs": [],
   "source": [
    "class Sample:\n",
    "    def __init__(self, data, population_variance=None):\n",
    "        self.data = data\n",
    "        self.mean = sum(data) / len(data)\n",
    "        self.std_dev = math.sqrt(sum((x - self.mean) ** 2 for x in data) / (len(data) - 1))\n",
    "        self.sample_size = len(data)\n",
    "        self.degrees_of_freedom = self.sample_size - 1\n",
    "        self.population_variance = population_variance\n",
    "\n",
    "    def confidence_interval(self, confidence=0.95):\n",
    "        self.t_value = stats.t.ppf((1 + confidence) / 2, self.degrees_of_freedom)\n",
    "        self.standard_error = self.std_dev / math.sqrt(self.sample_size)\n",
    "        self.margin_of_error = self.t_value * self.standard_error\n",
    "        self.lower_limit = self.mean - self.margin_of_error\n",
    "        self.upper_limit = self.mean + self.margin_of_error\n",
    "        \n",
    "        return self\n",
    "          \n",
    "    def confidence_interval_known_var(self, confidence=0.95):\n",
    "        if self.population_variance is None:\n",
    "            raise ValueError(\"Population variance must be provided to use this method.\")\n",
    "\n",
    "        self.z_value = stats.norm.ppf((1 + confidence) / 2)\n",
    "        self.standard_error = math.sqrt(self.population_variance) / math.sqrt(self.sample_size)\n",
    "        self.margin_of_error = self.z_value * self.standard_error\n",
    "        self.lower_limit = self.mean - self.margin_of_error\n",
    "        self.upper_limit = self.mean + self.margin_of_error\n",
    "        \n",
    "        return self\n",
    "    \n",
    "    def confidence_interval_variance(self, confidence=0.95):\n",
    "        self.sample_variance = self.std_dev ** 2\n",
    "        self.chi_squared_lower = stats.chi2.ppf((1 - confidence) / 2, self.degrees_of_freedom)\n",
    "        self.chi_squared_upper = stats.chi2.ppf((1 + confidence) / 2, self.degrees_of_freedom)\n",
    "        \n",
    "        self.variance_lower_limit = (self.degrees_of_freedom * self.sample_variance) / self.chi_squared_upper\n",
    "        self.variance_upper_limit = (self.degrees_of_freedom * self.sample_variance) / self.chi_squared_lower\n",
    "\n",
    "        return self\n",
    "    \n",
    "    def confidence_interval_proportion(self, count, confidence=0.95):\n",
    "        self.proportion = count / self.sample_size\n",
    "        self.z_value = stats.norm.ppf((1 + confidence) / 2)\n",
    "        self.standard_error = math.sqrt((self.proportion * (1 - self.proportion)) / self.sample_size)\n",
    "        self.margin_of_error = self.z_value * self.standard_error\n",
    "        self.proportion_lower_limit = self.proportion - self.margin_of_error\n",
    "        self.proportion_upper_limit = self.proportion + self.margin_of_error\n",
    "        \n",
    "        return self\n"
   ]
  },
  {
   "cell_type": "markdown",
   "id": "49e98d78-fc9b-43fa-ab46-12ccc6b53ec2",
   "metadata": {
    "tags": []
   },
   "source": [
    "---\n",
    "\n",
    "**Calculating Confidence Interval for Population Mean (µ)**\n",
    "\n",
    "When calculating the confidence interval for the population mean (µ), the method you use depends on whether the population variance (σ²) is known or unknown. The reason for this difference lies in the type of distribution used to estimate the population mean.\n",
    "\n",
    "\n",
    "---\n",
    "\n",
    "**1. Unknown population variance:**\n",
    "\n",
    "In this case, we use the sample standard deviation (s) as an estimate of the population standard deviation (σ) and the t-distribution to calculate the confidence interval. The t-distribution is a family of distributions indexed by the degrees of freedom (n-1), where n is the sample size. As the sample size increases, the t-distribution approaches the standard normal distribution.\n",
    "\n",
    "Follow these steps to calculate the confidence interval:\n",
    "\n",
    "1. **Calculate the sample mean (x̄) and the sample standard deviation (s):**\n",
    "\n",
    "    $$\n",
    "    \\bar{x} = \\frac{\\sum_{i=1}^{n} x_i}{n}\n",
    "    $$\n",
    "\n",
    "    $$\n",
    "    s = \\sqrt{\\frac{\\sum_{i=1}^{n} (x_i - \\bar{x})^2}{n-1}}\n",
    "    $$\n",
    "\n",
    "    where $x_i$ are the individual measurements, and $n$ is the sample size.\n",
    "\n",
    "2. **Find the t-value that corresponds to the desired level of confidence (95% in this case) and the degrees of freedom (n-1):**\n",
    "\n",
    "   For a 95% confidence interval and $n-1$ degrees of freedom, you can look up the t-value in a t-table or use a t-distribution calculator. The two-tailed t-value for a 95% confidence interval with $n-1$ degrees of freedom is denoted as $t_{n-1, 0.975}$.\n",
    "\n",
    "3. **Calculate the standard error (SE):**\n",
    "\n",
    "    $$\n",
    "    SE = \\frac{s}{\\sqrt{n}}\n",
    "    $$\n",
    "\n",
    "4. **Calculate the margin of error (ME):**\n",
    "\n",
    "    $$\n",
    "    ME = t_{n-1, 0.975} \\cdot SE\n",
    "    $$\n",
    "\n",
    "5. **Calculate the 95% confidence interval for the mean:**\n",
    "\n",
    "    $$\n",
    "    \\text{Lower limit: } \\bar{x} - ME\n",
    "    $$\n",
    "\n",
    "    $$\n",
    "    \\text{Upper limit: } \\bar{x} + ME\n",
    "    $$\n",
    "\n",
    "The 95% confidence interval for the mean µ is given by the range between the lower and upper limits. This means that you can be 95% confident that the true population mean lies within this interval."
   ]
  },
  {
   "cell_type": "code",
   "execution_count": 58,
   "id": "c93ac9aa-5da8-4a6d-a16e-4bca2cd034f2",
   "metadata": {
    "tags": []
   },
   "outputs": [
    {
     "name": "stdout",
     "output_type": "stream",
     "text": [
      "Sample Mean: 21.30\n",
      "t-value: 2.26\n",
      "Standard Error: 1.75\n",
      "Margin of Error: 3.95\n",
      "The 95% confidence interval for the population mean is: (17.3522, 25.2478)\n"
     ]
    }
   ],
   "source": [
    "# Create a list of sample data \n",
    "data = [13, 17, 15, 23, 27, 29, 18, 27, 20, 24]\n",
    "\n",
    "# Create a Sample object with the sample data \n",
    "sample = Sample(data)\n",
    "\n",
    "# Create a ConfidenceInterval object using the Sample object and calculate the confidence interval\n",
    "ci_object = sample.confidence_interval()\n",
    "\n",
    "# Print the values in a readable format\n",
    "print(f\"Sample Mean: {ci_object.mean:.2f}\")\n",
    "print(f\"t-value: {ci_object.t_value:.2f}\")\n",
    "print(f\"Standard Error: {ci_object.standard_error:.2f}\")\n",
    "print(f\"Margin of Error: {ci_object.margin_of_error:.2f}\")\n",
    "print(f\"The 95% confidence interval for the population mean is: ({ci_object.lower_limit:.4f}, {ci_object.upper_limit:.4f})\")\n"
   ]
  },
  {
   "cell_type": "markdown",
   "id": "b9904033-5e65-456f-b228-5398569460b8",
   "metadata": {
    "tags": []
   },
   "source": [
    "\n",
    "---\n",
    "**2. Known population variance (σ²):**\n",
    "\n",
    "When the population variance is known, we can use the standard normal (Z) distribution to calculate the confidence interval. This is because, under the assumption of normality, the sample mean (x̄) follows a normal distribution with mean µ and variance σ²/n, where n is the sample size. \n",
    "\n",
    "Follow these steps to calculate the confidence interval:\n",
    "\n",
    "1. **Calculate the sample mean (x̄):**\n",
    "\n",
    "    $$\n",
    "    \\bar{x} = \\frac{\\sum_{i=1}^{n} x_i}{n}\n",
    "    $$\n",
    "\n",
    "    where $x_i$ are the individual measurements, and $n$ is the sample size.\n",
    "\n",
    "2. **Calculate the standard error (SE) using the known population variance:**\n",
    "\n",
    "    $$\n",
    "    SE = \\frac{\\sigma}{\\sqrt{n}}\n",
    "    $$\n",
    "\n",
    "3. **Calculate the margin of error (ME) using the Z-score corresponding to the desired confidence level (e.g., 1.96 for a 95% confidence interval):**\n",
    "    \n",
    "    $$\n",
    "    ME = Z_{\\alpha/2} \\cdot SE\n",
    "    $$\n",
    "    \n",
    "4. **Calculate the confidence interval for the mean:**\n",
    "\n",
    "    $$\n",
    "    \\text{Lower limit: } \\bar{x} - ME\n",
    "    $$\n",
    "\n",
    "    $$\n",
    "    \\text{Upper limit: } \\bar{x} + ME\n",
    "    $$"
   ]
  },
  {
   "cell_type": "code",
   "execution_count": 56,
   "id": "e88b07ce-50da-4de6-a078-78cbfcf6e399",
   "metadata": {
    "tags": []
   },
   "outputs": [
    {
     "name": "stdout",
     "output_type": "stream",
     "text": [
      "Sample Mean: 21.30\n",
      "z-value: 1.96\n",
      "Standard Error: 0.71\n",
      "Margin of Error: 1.39\n",
      "The 95% confidence interval for the population mean is: (19.9141, 22.6859)\n"
     ]
    }
   ],
   "source": [
    "# Create a list of sample data and the known population variance\n",
    "data = [13, 17, 15, 23, 27, 29, 18, 27, 20, 24]\n",
    "population_variance = 5\n",
    "\n",
    "# Create a Sample object with the sample data and population variance\n",
    "sample = Sample(data, population_variance)\n",
    "\n",
    "# Create a ConfidenceInterval object using the Sample object and calculate the confidence interval\n",
    "ci_object = sample.confidence_interval_known_var()\n",
    "\n",
    "# Print the values in a readable format\n",
    "print(f\"Sample Mean: {ci_object.mean:.2f}\")\n",
    "print(f\"z-value: {ci_object.z_value:.2f}\")\n",
    "print(f\"Standard Error: {ci_object.standard_error:.2f}\")\n",
    "print(f\"Margin of Error: {ci_object.margin_of_error:.2f}\")\n",
    "print(f\"The 95% confidence interval for the population mean is: ({ci_object.lower_limit:.4f}, {ci_object.upper_limit:.4f})\")"
   ]
  },
  {
   "cell_type": "markdown",
   "id": "fc2bdffd-33b3-4300-96ce-e697a7e295fb",
   "metadata": {},
   "source": [
    "---\n",
    "\n",
    "**In summary, when the population variance is known, we can use the standard normal (Z) distribution to calculate the confidence interval for µ, as the sample mean follows a normal distribution. When the population variance is unknown, we use the t-distribution to account for the uncertainty introduced by estimating the population standard deviation with the sample standard deviation. The 95% confidence interval for the mean µ is given by the range between the lower and upper limits. This means that you can be 95% confident that the true population mean lies within this interval.**\n",
    "\n",
    "\n",
    "---"
   ]
  },
  {
   "cell_type": "markdown",
   "id": "4dedb18d-e2ad-4dc4-8676-42eab9600293",
   "metadata": {},
   "source": [
    "To calculate the confidence interval of the variance for a given sample, we use the Chi-squared (χ²) distribution. The method `confidence_interval_variance` implements the following steps:\n",
    "\n",
    "1. **Calculate the sample variance (s²):**\n",
    "\n",
    "    $$\n",
    "    s^2 = \\frac{\\sum_{i=1}^{n} (x_i - \\bar{x})^2}{n-1}\n",
    "    $$\n",
    "\n",
    "   where $x_i$ are the individual measurements, $n$ is the sample size, and $\\bar{x}$ is the sample mean.\n",
    "\n",
    "2. **Find the Chi-squared (χ²) values that correspond to the desired level of confidence (95% in this case) and the degrees of freedom (n-1):**\n",
    "\n",
    "   For a 95% confidence interval and $n-1$ degrees of freedom, you can look up the χ² values in a Chi-squared table or use a Chi-squared distribution calculator. The two-tailed χ² values for a 95% confidence interval with $n-1$ degrees of freedom are denoted as $\\chi^2_{n-1, \\frac{\\alpha}{2}}$ and $\\chi^2_{n-1, 1 - \\frac{\\alpha}{2}}$.\n",
    "\n",
    "3. **Calculate the confidence interval for the variance (σ²):**\n",
    "\n",
    "    $$\n",
    "    \\text{Lower limit: } \\frac{(n-1) \\cdot s^2}{\\chi^2_{n-1, 1 - \\frac{\\alpha}{2}}}\n",
    "    $$\n",
    "\n",
    "    $$\n",
    "    \\text{Upper limit: } \\frac{(n-1) \\cdot s^2}{\\chi^2_{n-1, \\frac{\\alpha}{2}}}\n",
    "    $$\n",
    "\n",
    "The confidence interval for the population variance (σ²) is given by the range between the lower and upper limits. This means that you can be 95% confident that the true population variance lies within this interval."
   ]
  },
  {
   "cell_type": "code",
   "execution_count": 69,
   "id": "fe789c24-2102-4654-bbd9-f22da1f0e5c6",
   "metadata": {
    "tags": []
   },
   "outputs": [
    {
     "name": "stdout",
     "output_type": "stream",
     "text": [
      "Sample Variance: 22382.22\n",
      "Chi-squared lower value: 2.70\n",
      "Chi-squared upper value: 19.02\n",
      "The 95% confidence interval for the population variance is: (10589.4159, 74596.6462)\n"
     ]
    }
   ],
   "source": [
    "# Create a list of sample data and the known population variance\n",
    "data = [2100, 2302, 1951, 2067, 2415, 1993, 2099, 2146, 2278, 2019]\n",
    "\n",
    "# Create a Sample object with the sample data and population variance\n",
    "sample = Sample(data, population_variance)\n",
    "\n",
    "# Create a ConfidenceInterval object using the Sample object and calculate the confidence interval for the variance\n",
    "ci_object_var = sample.confidence_interval_variance()\n",
    "\n",
    "# Print the values in a readable format\n",
    "print(f\"Sample Variance: {ci_object_var.sample_variance:.2f}\")\n",
    "print(f\"Chi-squared lower value: {ci_object_var.chi_squared_lower:.2f}\")\n",
    "print(f\"Chi-squared upper value: {ci_object_var.chi_squared_upper:.2f}\")\n",
    "print(f\"The 95% confidence interval for the population variance is: ({ci_object_var.variance_lower_limit:.4f}, {ci_object_var.variance_upper_limit:.4f})\")"
   ]
  },
  {
   "cell_type": "markdown",
   "id": "35446805-02b6-423b-b8d4-4fe52842e6a5",
   "metadata": {},
   "source": [
    "---\n",
    "\n",
    "\n",
    "When calculating the confidence interval for a proportion (p) of a binary characteristic in a sample, we can use the standard normal (Z) distribution. The steps are as follows:\n",
    "\n",
    "1. **Calculate the sample proportion (p̂):**\n",
    "\n",
    "    $$\n",
    "    \\hat{p} = \\frac{\\text{count}}{n}\n",
    "    $$\n",
    "\n",
    "   where `count` is the number of occurrences of the binary characteristic in the sample, and `n` is the sample size.\n",
    "\n",
    "2. **Find the Z-value that corresponds to the desired level of confidence (95% in this case):**\n",
    "\n",
    "   For a 95% confidence interval, you can look up the Z-value in a Z-table or use a Z-distribution calculator. The two-tailed Z-value for a 95% confidence interval is denoted as $Z_{\\alpha/2}$.\n",
    "\n",
    "3. **Calculate the standard error (SE) for the proportion:**\n",
    "\n",
    "    $$\n",
    "    SE = \\sqrt{\\frac{\\hat{p}(1 - \\hat{p})}{n}}\n",
    "    $$\n",
    "\n",
    "4. **Calculate the margin of error (ME) for the proportion:**\n",
    "\n",
    "    $$\n",
    "    ME = Z_{\\alpha/2} \\cdot SE\n",
    "    $$\n",
    "\n",
    "5. **Calculate the 95% confidence interval for the proportion:**\n",
    "\n",
    "    $$\n",
    "    \\text{Lower limit: } \\hat{p} - ME\n",
    "    $$\n",
    "\n",
    "    $$\n",
    "    \\text{Upper limit: } \\hat{p} + ME\n",
    "    $$\n",
    "\n",
    "The 95% confidence interval for the proportion p is given by the range between the lower and upper limits. This means that you can be 95% confident that the true population proportion lies within this interval."
   ]
  },
  {
   "cell_type": "code",
   "execution_count": 73,
   "id": "303cd48d-b5bb-4382-b75d-24c3dce3fb21",
   "metadata": {
    "tags": []
   },
   "outputs": [
    {
     "name": "stdout",
     "output_type": "stream",
     "text": [
      "Proportion: 0.4\n",
      "Z-value: 1.959963984540054\n",
      "Standard Error: 0.08944271909999159\n",
      "Margin of Error: 0.1753045081153163\n",
      "Proportion Lower Limit: 0.2246954918846837\n",
      "Proportion Upper Limit: 0.5753045081153163\n"
     ]
    }
   ],
   "source": [
    "# Create a dataset with binary characteristic (1 for success, 0 for failure)\n",
    "data = [1,0,0,0,1,1,0,0,0,1,1,0,0,0,1,1,0,0,0,1,1,0,0,0,1,1,0,0,0,1]\n",
    "\n",
    "# Instantiate a Sample object with the dataset\n",
    "sample = Sample(data)\n",
    "\n",
    "# Modify the sample object with the confidence_interval_proportion method\n",
    "count = sum(data)  # Count the number of successes (1s) in the dataset\n",
    "sample.confidence_interval_proportion(count)\n",
    "\n",
    "# Print out the internal values of the method\n",
    "print(\"Proportion:\", sample.proportion)\n",
    "print(\"Z-value:\", sample.z_value)\n",
    "print(\"Standard Error:\", sample.standard_error)\n",
    "print(\"Margin of Error:\", sample.margin_of_error)\n",
    "print(\"Proportion Lower Limit:\", sample.proportion_lower_limit)\n",
    "print(\"Proportion Upper Limit:\", sample.proportion_upper_limit)"
   ]
  },
  {
   "cell_type": "code",
   "execution_count": null,
   "id": "a667c499-6536-403c-8588-7a00b9b7acf1",
   "metadata": {},
   "outputs": [],
   "source": []
  }
 ],
 "metadata": {
  "kernelspec": {
   "display_name": "Python 3 (ipykernel)",
   "language": "python",
   "name": "python3"
  },
  "language_info": {
   "codemirror_mode": {
    "name": "ipython",
    "version": 3
   },
   "file_extension": ".py",
   "mimetype": "text/x-python",
   "name": "python",
   "nbconvert_exporter": "python",
   "pygments_lexer": "ipython3",
   "version": "3.8.2"
  }
 },
 "nbformat": 4,
 "nbformat_minor": 5
}
