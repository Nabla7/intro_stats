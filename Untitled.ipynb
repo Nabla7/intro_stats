{
 "cells": [
  {
   "cell_type": "code",
   "execution_count": 1,
   "id": "ca4ca71c-b60b-420d-b6da-721615423382",
   "metadata": {
    "tags": []
   },
   "outputs": [],
   "source": [
    "import math\n",
    "import scipy.stats as stats"
   ]
  },
  {
   "cell_type": "markdown",
   "id": "8614d6b5-6e6d-4489-abf1-221056f3f90f",
   "metadata": {
    "tags": []
   },
   "source": [
    "The `Sample` class contains the `calculate_confidence_interval`method which calculates the 95% confidence interval for the mean (µ) of a sample, assuming the sample is normally distributed and that the population variance is unknown. It uses the following steps:\n",
    "\n",
    "1. **Calculate the sample mean (x̄) and the sample standard deviation (s):**\n",
    "\n",
    "    $$\n",
    "    \\bar{x} = \\frac{\\sum_{i=1}^{n} x_i}{n}\n",
    "    $$\n",
    "\n",
    "    $$\n",
    "    s = \\sqrt{\\frac{\\sum_{i=1}^{n} (x_i - \\bar{x})^2}{n-1}}\n",
    "    $$\n",
    "\n",
    "   where $x_i$ are the individual measurements, and $n$ is the sample size.\n",
    "\n",
    "2. **Find the t-value that corresponds to the desired level of confidence (95% in this case) and the degrees of freedom (n-1):**\n",
    "\n",
    "   For a 95% confidence interval and $n-1$ degrees of freedom, you can look up the t-value in a t-table or use a t-distribution calculator. The two-tailed t-value for a 95% confidence interval with $n-1$ degrees of freedom is denoted as $t_{n-1, 0.975}$.\n",
    "\n",
    "3. **Calculate the standard error (SE):**\n",
    "\n",
    "    $$\n",
    "    SE = \\frac{s}{\\sqrt{n}}\n",
    "    $$\n",
    "\n",
    "4. **Calculate the margin of error (ME):**\n",
    "\n",
    "    $$\n",
    "    ME = t_{n-1, 0.975} \\cdot SE\n",
    "    $$\n",
    "\n",
    "5. **Calculate the 95% confidence interval for the mean:**\n",
    "\n",
    "    $$\n",
    "    \\text{Lower limit: } \\bar{x} - ME\n",
    "    $$\n",
    "\n",
    "    $$\n",
    "    \\text{Upper limit: } \\bar{x} + ME\n",
    "    $$\n",
    "\n",
    "The 95% confidence interval for the mean µ is given by the range between the lower and upper limits. This means that you can be 95% confident that the true population mean lies within this interval."
   ]
  },
  {
   "cell_type": "code",
   "execution_count": 26,
   "id": "62b16e4e-e216-42a3-8576-87a006fe7a99",
   "metadata": {
    "tags": []
   },
   "outputs": [],
   "source": [
    "class Sample:\n",
    "    def __init__(self, data, population_variance=None):\n",
    "        self.data = data\n",
    "        self.mean = sum(data) / len(data)\n",
    "        self.std_dev = math.sqrt(sum((x - self.mean) ** 2 for x in data) / (len(data) - 1))\n",
    "        self.sample_size = len(data)\n",
    "        self.degrees_of_freedom = self.sample_size - 1\n",
    "        self.population_variance = population_variance\n",
    "\n",
    "    def confidence_interval(self, confidence=0.95):\n",
    "        t_value = stats.t.ppf((1 + confidence) / 2, self.degrees_of_freedom)\n",
    "        standard_error = self.std_dev / math.sqrt(self.sample_size)\n",
    "        margin_of_error = t_value * standard_error\n",
    "        lower_limit = self.mean - margin_of_error\n",
    "        upper_limit = self.mean + margin_of_error\n",
    "        \n",
    "        print(f\"The 95% confidence interval for the population mean is: ({lower_limit:.4f}, {upper_limit:.4f})\")\n",
    "\n",
    "        return lower_limit, upper_limit\n",
    "    \n",
    "    def confidence_interval_known_var(self, confidence=0.95):\n",
    "        if self.population_variance is None:\n",
    "            raise ValueError(\"Population variance must be provided to use this method.\")\n",
    "\n",
    "        z_value = stats.norm.ppf((1 + confidence) / 2)\n",
    "        standard_error = math.sqrt(self.population_variance) / math.sqrt(self.sample_size)\n",
    "        margin_of_error = z_value * standard_error\n",
    "        lower_limit = self.mean - margin_of_error\n",
    "        upper_limit = self.mean + margin_of_error\n",
    "        \n",
    "        print(f\"The 95% confidence interval for the population mean is: ({lower_limit:.4f}, {upper_limit:.4f})\")\n",
    "\n",
    "        return lower_limit, upper_limit"
   ]
  },
  {
   "cell_type": "markdown",
   "id": "d86d468b-21d9-4227-90e4-96fb98c07b41",
   "metadata": {},
   "source": [
    "When calculating the confidence interval for the population mean (µ), the method you use depends on whether the population variance (σ²) is known or unknown. The reason for this difference lies in the type of distribution used to estimate the population mean.\n",
    "\n",
    "1. **Known population variance (σ²):**\n",
    "\n",
    "   When the population variance is known, we can use the standard normal (Z) distribution to calculate the confidence interval. This is because, under the assumption of normality, the sample mean (x̄) follows a normal distribution with mean µ and variance σ²/n, where n is the sample size. The standard error (SE) is calculated using the known population variance:\n",
    "\n",
    "   $$\n",
    "   SE = \\frac{\\sigma}{\\sqrt{n}}\n",
    "   $$\n",
    "\n",
    "   The margin of error (ME) is calculated using the Z-score corresponding to the desired confidence level (e.g., 1.96 for a 95% confidence interval):\n",
    "\n",
    "   $$\n",
    "   ME = Z_{\\alpha/2} \\cdot SE\n",
    "   $$\n",
    "\n",
    "   Finally, the confidence interval is calculated as:\n",
    "\n",
    "   $$\n",
    "   \\text{Lower limit: } \\bar{x} - ME\n",
    "   $$\n",
    "\n",
    "   $$\n",
    "   \\text{Upper limit: } \\bar{x} + ME\n",
    "   $$"
   ]
  },
  {
   "cell_type": "code",
   "execution_count": 31,
   "id": "8a2b51d2-8ffb-4f80-b650-cb0739869fae",
   "metadata": {
    "tags": []
   },
   "outputs": [
    {
     "name": "stdout",
     "output_type": "stream",
     "text": [
      "The 95% confidence interval for the population mean estimate is: (19.9141, 22.6859)\n"
     ]
    }
   ],
   "source": [
    "# Example usage:\n",
    "data = [13, 17, 15, 23, 27, 29, 18, 27, 20, 24]\n",
    "population_variance = 5\n",
    "\n",
    "known_var_sample = Sample(data, population_variance)\n",
    "lower_limit, upper_limit = known_var_sample.confidence_interval_known_var()"
   ]
  },
  {
   "cell_type": "markdown",
   "id": "ed6af1ee-7bc9-43e9-8ea0-36ff4e2ef5d5",
   "metadata": {},
   "source": [
    "2. **Unknown population variance:**\n",
    "\n",
    "   When the population variance is unknown, we use the sample standard deviation (s) as an estimate of the population standard deviation (σ). In this case, we cannot use the standard normal (Z) distribution directly, because the sample standard deviation is also an estimate with its own variability. Instead, we use the t-distribution, which accounts for the additional uncertainty introduced by using the sample standard deviation.\n",
    "\n",
    "   The t-distribution is a family of distributions indexed by the degrees of freedom (n-1), where n is the sample size. As the sample size increases, the t-distribution approaches the standard normal distribution.\n",
    "\n",
    "   The standard error (SE) is calculated using the sample standard deviation:\n",
    "\n",
    "   $$\n",
    "   SE = \\frac{s}{\\sqrt{n}}\n",
    "   $$\n",
    "\n",
    "   The margin of error (ME) is calculated using the t-score corresponding to the desired confidence level and degrees of freedom:\n",
    "\n",
    "   $$\n",
    "   ME = t_{n-1, \\alpha/2} \\cdot SE\n",
    "   $$\n",
    "\n",
    "   Finally, the confidence interval is calculated as:\n",
    "\n",
    "   $$\n",
    "   \\text{Lower limit: } \\bar{x} - ME\n",
    "   $$\n",
    "\n",
    "   $$\n",
    "   \\text{Upper limit: } \\bar{x} + ME\n",
    "   $$\n",
    "\n",
    "In summary, when the population variance is known, we can use the standard normal (Z) distribution to calculate the confidence interval for µ, as the sample mean follows a normal distribution. When the population variance is unknown, we use the t-distribution to account for the uncertainty introduced by estimating the population standard deviation with the sample standard deviation."
   ]
  },
  {
   "cell_type": "code",
   "execution_count": 32,
   "id": "9ccf323a-ae81-4c35-b6a5-8f6118584555",
   "metadata": {
    "tags": []
   },
   "outputs": [
    {
     "name": "stdout",
     "output_type": "stream",
     "text": [
      "The 95% confidence interval for the population mean estimate is: (17.3522, 25.2478)\n"
     ]
    }
   ],
   "source": [
    "# Example usage:\n",
    "data = [13, 17, 15, 23, 27, 29, 18, 27, 20, 24]\n",
    "\n",
    "\n",
    "sample = Sample(data)\n",
    "lower_limit, upper_limit = sample.confidence_interval()"
   ]
  },
  {
   "cell_type": "code",
   "execution_count": null,
   "id": "aec439ee-75e4-4209-a268-8ff83fab38eb",
   "metadata": {},
   "outputs": [],
   "source": []
  },
  {
   "cell_type": "code",
   "execution_count": null,
   "id": "24a6d0ee-3c4c-470a-8f12-875ed1fc6f5e",
   "metadata": {},
   "outputs": [],
   "source": []
  }
 ],
 "metadata": {
  "kernelspec": {
   "display_name": "Python 3 (ipykernel)",
   "language": "python",
   "name": "python3"
  },
  "language_info": {
   "codemirror_mode": {
    "name": "ipython",
    "version": 3
   },
   "file_extension": ".py",
   "mimetype": "text/x-python",
   "name": "python",
   "nbconvert_exporter": "python",
   "pygments_lexer": "ipython3",
   "version": "3.8.2"
  }
 },
 "nbformat": 4,
 "nbformat_minor": 5
}
